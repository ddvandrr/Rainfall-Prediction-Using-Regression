{
 "cells": [
  {
   "cell_type": "code",
   "execution_count": 3,
   "metadata": {
    "id": "y4DP5JuHk_N2"
   },
   "outputs": [],
   "source": [
    "import pandas as pd"
   ]
  },
  {
   "cell_type": "code",
   "execution_count": 5,
   "metadata": {
    "colab": {
     "base_uri": "https://localhost:8080/",
     "height": 455
    },
    "id": "fN78g7Nrl0zv",
    "outputId": "d582765e-468e-4820-adc6-e3b0ea10e923"
   },
   "outputs": [
    {
     "data": {
      "text/html": [
       "<div>\n",
       "<style scoped>\n",
       "    .dataframe tbody tr th:only-of-type {\n",
       "        vertical-align: middle;\n",
       "    }\n",
       "\n",
       "    .dataframe tbody tr th {\n",
       "        vertical-align: top;\n",
       "    }\n",
       "\n",
       "    .dataframe thead th {\n",
       "        text-align: right;\n",
       "    }\n",
       "</style>\n",
       "<table border=\"1\" class=\"dataframe\">\n",
       "  <thead>\n",
       "    <tr style=\"text-align: right;\">\n",
       "      <th></th>\n",
       "      <th>WindSpeed</th>\n",
       "      <th>Humidity</th>\n",
       "      <th>Ray</th>\n",
       "      <th>TempAvg</th>\n",
       "    </tr>\n",
       "    <tr>\n",
       "      <th>Tanggal</th>\n",
       "      <th></th>\n",
       "      <th></th>\n",
       "      <th></th>\n",
       "      <th></th>\n",
       "    </tr>\n",
       "  </thead>\n",
       "  <tbody>\n",
       "    <tr>\n",
       "      <th>2018-01-01</th>\n",
       "      <td>2.0</td>\n",
       "      <td>78.0</td>\n",
       "      <td>6.4</td>\n",
       "      <td>23.5</td>\n",
       "    </tr>\n",
       "    <tr>\n",
       "      <th>2018-01-02</th>\n",
       "      <td>2.0</td>\n",
       "      <td>80.0</td>\n",
       "      <td>6.9</td>\n",
       "      <td>23.1</td>\n",
       "    </tr>\n",
       "    <tr>\n",
       "      <th>2018-01-03</th>\n",
       "      <td>1.0</td>\n",
       "      <td>84.0</td>\n",
       "      <td>3.8</td>\n",
       "      <td>23.6</td>\n",
       "    </tr>\n",
       "    <tr>\n",
       "      <th>2018-01-04</th>\n",
       "      <td>1.0</td>\n",
       "      <td>88.0</td>\n",
       "      <td>3.2</td>\n",
       "      <td>22.9</td>\n",
       "    </tr>\n",
       "    <tr>\n",
       "      <th>2018-01-05</th>\n",
       "      <td>2.0</td>\n",
       "      <td>81.0</td>\n",
       "      <td>3.0</td>\n",
       "      <td>23.5</td>\n",
       "    </tr>\n",
       "    <tr>\n",
       "      <th>...</th>\n",
       "      <td>...</td>\n",
       "      <td>...</td>\n",
       "      <td>...</td>\n",
       "      <td>...</td>\n",
       "    </tr>\n",
       "    <tr>\n",
       "      <th>2021-12-27</th>\n",
       "      <td>1.0</td>\n",
       "      <td>80.0</td>\n",
       "      <td>5.8</td>\n",
       "      <td>24.2</td>\n",
       "    </tr>\n",
       "    <tr>\n",
       "      <th>2021-12-28</th>\n",
       "      <td>1.0</td>\n",
       "      <td>78.0</td>\n",
       "      <td>5.6</td>\n",
       "      <td>23.7</td>\n",
       "    </tr>\n",
       "    <tr>\n",
       "      <th>2021-12-29</th>\n",
       "      <td>2.0</td>\n",
       "      <td>80.0</td>\n",
       "      <td>6.0</td>\n",
       "      <td>24.2</td>\n",
       "    </tr>\n",
       "    <tr>\n",
       "      <th>2021-12-30</th>\n",
       "      <td>1.0</td>\n",
       "      <td>80.0</td>\n",
       "      <td>3.0</td>\n",
       "      <td>23.9</td>\n",
       "    </tr>\n",
       "    <tr>\n",
       "      <th>2021-12-31</th>\n",
       "      <td>2.0</td>\n",
       "      <td>79.0</td>\n",
       "      <td>2.4</td>\n",
       "      <td>24.4</td>\n",
       "    </tr>\n",
       "  </tbody>\n",
       "</table>\n",
       "<p>1460 rows × 4 columns</p>\n",
       "</div>"
      ],
      "text/plain": [
       "            WindSpeed  Humidity  Ray  TempAvg\n",
       "Tanggal                                      \n",
       "2018-01-01        2.0      78.0  6.4     23.5\n",
       "2018-01-02        2.0      80.0  6.9     23.1\n",
       "2018-01-03        1.0      84.0  3.8     23.6\n",
       "2018-01-04        1.0      88.0  3.2     22.9\n",
       "2018-01-05        2.0      81.0  3.0     23.5\n",
       "...               ...       ...  ...      ...\n",
       "2021-12-27        1.0      80.0  5.8     24.2\n",
       "2021-12-28        1.0      78.0  5.6     23.7\n",
       "2021-12-29        2.0      80.0  6.0     24.2\n",
       "2021-12-30        1.0      80.0  3.0     23.9\n",
       "2021-12-31        2.0      79.0  2.4     24.4\n",
       "\n",
       "[1460 rows x 4 columns]"
      ]
     },
     "execution_count": 5,
     "metadata": {},
     "output_type": "execute_result"
    }
   ],
   "source": [
    "cuaca = pd.read_excel(\"BMKG.xlsx\", index_col=\"Tanggal\")\n",
    "cuaca"
   ]
  },
  {
   "cell_type": "code",
   "execution_count": 6,
   "metadata": {
    "colab": {
     "base_uri": "https://localhost:8080/",
     "height": 209
    },
    "id": "BJFAQtp0n-lI",
    "outputId": "19802b33-f8be-4d14-ca3f-4a113f0dbf6a"
   },
   "outputs": [
    {
     "data": {
      "text/plain": [
       "WindSpeed    13\n",
       "Humidity     14\n",
       "Ray          15\n",
       "TempAvg      14\n",
       "dtype: int64"
      ]
     },
     "execution_count": 6,
     "metadata": {},
     "output_type": "execute_result"
    }
   ],
   "source": [
    "cuaca.apply(pd.isnull).sum()"
   ]
  },
  {
   "cell_type": "code",
   "execution_count": 7,
   "metadata": {
    "id": "jLdMl9A12XFA"
   },
   "outputs": [],
   "source": [
    "from sklearn.impute import SimpleImputer\n",
    "numerical_features = cuaca.select_dtypes(include=['number']).columns\n",
    "imputer = SimpleImputer(strategy='mean')\n",
    "cuaca[numerical_features] = imputer.fit_transform(cuaca[numerical_features])"
   ]
  },
  {
   "cell_type": "code",
   "execution_count": 8,
   "metadata": {
    "colab": {
     "base_uri": "https://localhost:8080/",
     "height": 209
    },
    "id": "twozRpFC2hH-",
    "outputId": "37bc5c1a-023b-4902-af10-fde72781c569"
   },
   "outputs": [
    {
     "data": {
      "text/plain": [
       "WindSpeed    0\n",
       "Humidity     0\n",
       "Ray          0\n",
       "TempAvg      0\n",
       "dtype: int64"
      ]
     },
     "execution_count": 8,
     "metadata": {},
     "output_type": "execute_result"
    }
   ],
   "source": [
    "cuaca.isna().sum()"
   ]
  },
  {
   "cell_type": "code",
   "execution_count": 9,
   "metadata": {
    "colab": {
     "base_uri": "https://localhost:8080/",
     "height": 209
    },
    "id": "8NaHH8TKp7uQ",
    "outputId": "c0b80286-2e16-4f3e-d3d1-168704acba49"
   },
   "outputs": [
    {
     "data": {
      "text/plain": [
       "WindSpeed    float64\n",
       "Humidity     float64\n",
       "Ray          float64\n",
       "TempAvg      float64\n",
       "dtype: object"
      ]
     },
     "execution_count": 9,
     "metadata": {},
     "output_type": "execute_result"
    }
   ],
   "source": [
    "cuaca.dtypes"
   ]
  },
  {
   "cell_type": "code",
   "execution_count": 10,
   "metadata": {
    "colab": {
     "base_uri": "https://localhost:8080/"
    },
    "id": "2NM20QtsqEiF",
    "outputId": "1106dbd2-1a73-4927-859f-78ef9acf2bb6"
   },
   "outputs": [
    {
     "data": {
      "text/plain": [
       "DatetimeIndex(['2018-01-01', '2018-01-02', '2018-01-03', '2018-01-04',\n",
       "               '2018-01-05', '2018-01-06', '2018-01-07', '2018-01-08',\n",
       "               '2018-01-09', '2018-01-10',\n",
       "               ...\n",
       "               '2021-12-22', '2021-12-23', '2021-12-24', '2021-12-25',\n",
       "               '2021-12-26', '2021-12-27', '2021-12-28', '2021-12-29',\n",
       "               '2021-12-30', '2021-12-31'],\n",
       "              dtype='datetime64[ns]', name='Tanggal', length=1460, freq=None)"
      ]
     },
     "execution_count": 10,
     "metadata": {},
     "output_type": "execute_result"
    }
   ],
   "source": [
    "cuaca.index"
   ]
  },
  {
   "cell_type": "code",
   "execution_count": 11,
   "metadata": {
    "id": "V_DhewHxqIh_"
   },
   "outputs": [],
   "source": [
    "cuaca.index = pd.to_datetime(cuaca.index, format=\"%d-%m-%Y\")"
   ]
  },
  {
   "cell_type": "code",
   "execution_count": 12,
   "metadata": {
    "colab": {
     "base_uri": "https://localhost:8080/",
     "height": 209
    },
    "id": "HwGEYLA9qraC",
    "outputId": "7ab92141-b6e4-4dc7-c0ad-041f0d0672f7"
   },
   "outputs": [
    {
     "data": {
      "text/plain": [
       "WindSpeed    0\n",
       "Humidity     0\n",
       "Ray          0\n",
       "TempAvg      0\n",
       "dtype: int64"
      ]
     },
     "execution_count": 12,
     "metadata": {},
     "output_type": "execute_result"
    }
   ],
   "source": [
    "cuaca.apply(lambda x: (x==9999).sum())"
   ]
  },
  {
   "cell_type": "code",
   "execution_count": 14,
   "metadata": {
    "colab": {
     "base_uri": "https://localhost:8080/",
     "height": 451
    },
    "id": "Nv6DyxZJq-hM",
    "outputId": "ac437498-fee3-4988-8585-8634450418e7"
   },
   "outputs": [
    {
     "data": {
      "text/plain": [
       "<Axes: xlabel='Tanggal'>"
      ]
     },
     "execution_count": 14,
     "metadata": {},
     "output_type": "execute_result"
    },
    {
     "data": {
      "image/png": "[encoded data removed]",
      "text/plain": [
       "<Figure size 640x480 with 1 Axes>"
      ]
     },
     "metadata": {},
     "output_type": "display_data"
    }
   ],
   "source": [
    "cuaca[[\"Ray\", \"Humidity\"]].plot()"
   ]
  },
  {
   "cell_type": "code",
   "execution_count": 15,
   "metadata": {
    "colab": {
     "base_uri": "https://localhost:8080/",
     "height": 455
    },
    "id": "Fgjh53AOrN_A",
    "outputId": "11d676a3-ab2f-4ca4-ff16-0c141262379a"
   },
   "outputs": [
    {
     "data": {
      "text/html": [
       "<div>\n",
       "<style scoped>\n",
       "    .dataframe tbody tr th:only-of-type {\n",
       "        vertical-align: middle;\n",
       "    }\n",
       "\n",
       "    .dataframe tbody tr th {\n",
       "        vertical-align: top;\n",
       "    }\n",
       "\n",
       "    .dataframe thead th {\n",
       "        text-align: right;\n",
       "    }\n",
       "</style>\n",
       "<table border=\"1\" class=\"dataframe\">\n",
       "  <thead>\n",
       "    <tr style=\"text-align: right;\">\n",
       "      <th></th>\n",
       "      <th>WindSpeed</th>\n",
       "      <th>Humidity</th>\n",
       "      <th>Ray</th>\n",
       "      <th>TempAvg</th>\n",
       "      <th>target</th>\n",
       "    </tr>\n",
       "    <tr>\n",
       "      <th>Tanggal</th>\n",
       "      <th></th>\n",
       "      <th></th>\n",
       "      <th></th>\n",
       "      <th></th>\n",
       "      <th></th>\n",
       "    </tr>\n",
       "  </thead>\n",
       "  <tbody>\n",
       "    <tr>\n",
       "      <th>2018-01-01</th>\n",
       "      <td>2.0</td>\n",
       "      <td>78.0</td>\n",
       "      <td>6.4</td>\n",
       "      <td>23.5</td>\n",
       "      <td>23.1</td>\n",
       "    </tr>\n",
       "    <tr>\n",
       "      <th>2018-01-02</th>\n",
       "      <td>2.0</td>\n",
       "      <td>80.0</td>\n",
       "      <td>6.9</td>\n",
       "      <td>23.1</td>\n",
       "      <td>23.6</td>\n",
       "    </tr>\n",
       "    <tr>\n",
       "      <th>2018-01-03</th>\n",
       "      <td>1.0</td>\n",
       "      <td>84.0</td>\n",
       "      <td>3.8</td>\n",
       "      <td>23.6</td>\n",
       "      <td>22.9</td>\n",
       "    </tr>\n",
       "    <tr>\n",
       "      <th>2018-01-04</th>\n",
       "      <td>1.0</td>\n",
       "      <td>88.0</td>\n",
       "      <td>3.2</td>\n",
       "      <td>22.9</td>\n",
       "      <td>23.5</td>\n",
       "    </tr>\n",
       "    <tr>\n",
       "      <th>2018-01-05</th>\n",
       "      <td>2.0</td>\n",
       "      <td>81.0</td>\n",
       "      <td>3.0</td>\n",
       "      <td>23.5</td>\n",
       "      <td>24.0</td>\n",
       "    </tr>\n",
       "    <tr>\n",
       "      <th>...</th>\n",
       "      <td>...</td>\n",
       "      <td>...</td>\n",
       "      <td>...</td>\n",
       "      <td>...</td>\n",
       "      <td>...</td>\n",
       "    </tr>\n",
       "    <tr>\n",
       "      <th>2021-12-27</th>\n",
       "      <td>1.0</td>\n",
       "      <td>80.0</td>\n",
       "      <td>5.8</td>\n",
       "      <td>24.2</td>\n",
       "      <td>23.7</td>\n",
       "    </tr>\n",
       "    <tr>\n",
       "      <th>2021-12-28</th>\n",
       "      <td>1.0</td>\n",
       "      <td>78.0</td>\n",
       "      <td>5.6</td>\n",
       "      <td>23.7</td>\n",
       "      <td>24.2</td>\n",
       "    </tr>\n",
       "    <tr>\n",
       "      <th>2021-12-29</th>\n",
       "      <td>2.0</td>\n",
       "      <td>80.0</td>\n",
       "      <td>6.0</td>\n",
       "      <td>24.2</td>\n",
       "      <td>23.9</td>\n",
       "    </tr>\n",
       "    <tr>\n",
       "      <th>2021-12-30</th>\n",
       "      <td>1.0</td>\n",
       "      <td>80.0</td>\n",
       "      <td>3.0</td>\n",
       "      <td>23.9</td>\n",
       "      <td>24.4</td>\n",
       "    </tr>\n",
       "    <tr>\n",
       "      <th>2021-12-31</th>\n",
       "      <td>2.0</td>\n",
       "      <td>79.0</td>\n",
       "      <td>2.4</td>\n",
       "      <td>24.4</td>\n",
       "      <td>NaN</td>\n",
       "    </tr>\n",
       "  </tbody>\n",
       "</table>\n",
       "<p>1460 rows × 5 columns</p>\n",
       "</div>"
      ],
      "text/plain": [
       "            WindSpeed  Humidity  Ray  TempAvg  target\n",
       "Tanggal                                              \n",
       "2018-01-01        2.0      78.0  6.4     23.5    23.1\n",
       "2018-01-02        2.0      80.0  6.9     23.1    23.6\n",
       "2018-01-03        1.0      84.0  3.8     23.6    22.9\n",
       "2018-01-04        1.0      88.0  3.2     22.9    23.5\n",
       "2018-01-05        2.0      81.0  3.0     23.5    24.0\n",
       "...               ...       ...  ...      ...     ...\n",
       "2021-12-27        1.0      80.0  5.8     24.2    23.7\n",
       "2021-12-28        1.0      78.0  5.6     23.7    24.2\n",
       "2021-12-29        2.0      80.0  6.0     24.2    23.9\n",
       "2021-12-30        1.0      80.0  3.0     23.9    24.4\n",
       "2021-12-31        2.0      79.0  2.4     24.4     NaN\n",
       "\n",
       "[1460 rows x 5 columns]"
      ]
     },
     "execution_count": 15,
     "metadata": {},
     "output_type": "execute_result"
    }
   ],
   "source": [
    "cuaca[\"target\"] = cuaca.shift(-1)[\"TempAvg\"]\n",
    "cuaca"
   ]
  },
  {
   "cell_type": "code",
   "execution_count": 16,
   "metadata": {
    "colab": {
     "base_uri": "https://localhost:8080/",
     "height": 455
    },
    "id": "hHFjBYq0rlhj",
    "outputId": "d32be0db-026f-4acb-dc65-72497227ec27"
   },
   "outputs": [
    {
     "data": {
      "text/html": [
       "<div>\n",
       "<style scoped>\n",
       "    .dataframe tbody tr th:only-of-type {\n",
       "        vertical-align: middle;\n",
       "    }\n",
       "\n",
       "    .dataframe tbody tr th {\n",
       "        vertical-align: top;\n",
       "    }\n",
       "\n",
       "    .dataframe thead th {\n",
       "        text-align: right;\n",
       "    }\n",
       "</style>\n",
       "<table border=\"1\" class=\"dataframe\">\n",
       "  <thead>\n",
       "    <tr style=\"text-align: right;\">\n",
       "      <th></th>\n",
       "      <th>WindSpeed</th>\n",
       "      <th>Humidity</th>\n",
       "      <th>Ray</th>\n",
       "      <th>TempAvg</th>\n",
       "      <th>target</th>\n",
       "    </tr>\n",
       "    <tr>\n",
       "      <th>Tanggal</th>\n",
       "      <th></th>\n",
       "      <th></th>\n",
       "      <th></th>\n",
       "      <th></th>\n",
       "      <th></th>\n",
       "    </tr>\n",
       "  </thead>\n",
       "  <tbody>\n",
       "    <tr>\n",
       "      <th>2018-01-01</th>\n",
       "      <td>2.0</td>\n",
       "      <td>78.0</td>\n",
       "      <td>6.4</td>\n",
       "      <td>23.5</td>\n",
       "      <td>23.1</td>\n",
       "    </tr>\n",
       "    <tr>\n",
       "      <th>2018-01-02</th>\n",
       "      <td>2.0</td>\n",
       "      <td>80.0</td>\n",
       "      <td>6.9</td>\n",
       "      <td>23.1</td>\n",
       "      <td>23.6</td>\n",
       "    </tr>\n",
       "    <tr>\n",
       "      <th>2018-01-03</th>\n",
       "      <td>1.0</td>\n",
       "      <td>84.0</td>\n",
       "      <td>3.8</td>\n",
       "      <td>23.6</td>\n",
       "      <td>22.9</td>\n",
       "    </tr>\n",
       "    <tr>\n",
       "      <th>2018-01-04</th>\n",
       "      <td>1.0</td>\n",
       "      <td>88.0</td>\n",
       "      <td>3.2</td>\n",
       "      <td>22.9</td>\n",
       "      <td>23.5</td>\n",
       "    </tr>\n",
       "    <tr>\n",
       "      <th>2018-01-05</th>\n",
       "      <td>2.0</td>\n",
       "      <td>81.0</td>\n",
       "      <td>3.0</td>\n",
       "      <td>23.5</td>\n",
       "      <td>24.0</td>\n",
       "    </tr>\n",
       "    <tr>\n",
       "      <th>...</th>\n",
       "      <td>...</td>\n",
       "      <td>...</td>\n",
       "      <td>...</td>\n",
       "      <td>...</td>\n",
       "      <td>...</td>\n",
       "    </tr>\n",
       "    <tr>\n",
       "      <th>2021-12-26</th>\n",
       "      <td>1.0</td>\n",
       "      <td>78.0</td>\n",
       "      <td>3.1</td>\n",
       "      <td>24.3</td>\n",
       "      <td>24.2</td>\n",
       "    </tr>\n",
       "    <tr>\n",
       "      <th>2021-12-27</th>\n",
       "      <td>1.0</td>\n",
       "      <td>80.0</td>\n",
       "      <td>5.8</td>\n",
       "      <td>24.2</td>\n",
       "      <td>23.7</td>\n",
       "    </tr>\n",
       "    <tr>\n",
       "      <th>2021-12-28</th>\n",
       "      <td>1.0</td>\n",
       "      <td>78.0</td>\n",
       "      <td>5.6</td>\n",
       "      <td>23.7</td>\n",
       "      <td>24.2</td>\n",
       "    </tr>\n",
       "    <tr>\n",
       "      <th>2021-12-29</th>\n",
       "      <td>2.0</td>\n",
       "      <td>80.0</td>\n",
       "      <td>6.0</td>\n",
       "      <td>24.2</td>\n",
       "      <td>23.9</td>\n",
       "    </tr>\n",
       "    <tr>\n",
       "      <th>2021-12-30</th>\n",
       "      <td>1.0</td>\n",
       "      <td>80.0</td>\n",
       "      <td>3.0</td>\n",
       "      <td>23.9</td>\n",
       "      <td>24.4</td>\n",
       "    </tr>\n",
       "  </tbody>\n",
       "</table>\n",
       "<p>1459 rows × 5 columns</p>\n",
       "</div>"
      ],
      "text/plain": [
       "            WindSpeed  Humidity  Ray  TempAvg  target\n",
       "Tanggal                                              \n",
       "2018-01-01        2.0      78.0  6.4     23.5    23.1\n",
       "2018-01-02        2.0      80.0  6.9     23.1    23.6\n",
       "2018-01-03        1.0      84.0  3.8     23.6    22.9\n",
       "2018-01-04        1.0      88.0  3.2     22.9    23.5\n",
       "2018-01-05        2.0      81.0  3.0     23.5    24.0\n",
       "...               ...       ...  ...      ...     ...\n",
       "2021-12-26        1.0      78.0  3.1     24.3    24.2\n",
       "2021-12-27        1.0      80.0  5.8     24.2    23.7\n",
       "2021-12-28        1.0      78.0  5.6     23.7    24.2\n",
       "2021-12-29        2.0      80.0  6.0     24.2    23.9\n",
       "2021-12-30        1.0      80.0  3.0     23.9    24.4\n",
       "\n",
       "[1459 rows x 5 columns]"
      ]
     },
     "execution_count": 16,
     "metadata": {},
     "output_type": "execute_result"
    }
   ],
   "source": [
    "cuaca = cuaca.iloc[:-1,:].copy()\n",
    "cuaca"
   ]
  },
  {
   "cell_type": "code",
   "execution_count": 17,
   "metadata": {
    "id": "ZrfYE0gKr0Zp"
   },
   "outputs": [],
   "source": [
    "from sklearn.linear_model import Ridge\n",
    "reg = Ridge(alpha=.1)"
   ]
  },
  {
   "cell_type": "code",
   "execution_count": 18,
   "metadata": {
    "id": "-sweiLVEsj2y"
   },
   "outputs": [],
   "source": [
    "predict = ['TempAvg', 'Humidity', 'Ray']  # Update with actual columns from test_data\n",
    "train_data = cuaca.loc[:\"2020-01-01\"]\n",
    "test_data = cuaca.loc[\"2020-01-01\":]\n",
    "reg.fit(train_data[predict], train_data[\"target\"])\n",
    "prediction = reg.predict(test_data[predict])"
   ]
  },
  {
   "cell_type": "code",
   "execution_count": 19,
   "metadata": {
    "colab": {
     "base_uri": "https://localhost:8080/"
    },
    "id": "l7PKNv0Ku8X1",
    "outputId": "8292dc93-bba7-4a1c-dcc7-3b012b898c5f"
   },
   "outputs": [
    {
     "data": {
      "text/plain": [
       "np.float64(0.5374808212433168)"
      ]
     },
     "execution_count": 19,
     "metadata": {},
     "output_type": "execute_result"
    }
   ],
   "source": [
    "from sklearn.metrics import mean_absolute_error\n",
    "mean_absolute_error(test_data[\"target\"], prediction)"
   ]
  },
  {
   "cell_type": "code",
   "execution_count": 30,
   "metadata": {
    "colab": {
     "base_uri": "https://localhost:8080/",
     "height": 455
    },
    "id": "LQOpKUWEvGGw",
    "outputId": "c2ba6d84-dcda-46d3-fa66-05cdade1a1a4"
   },
   "outputs": [
    {
     "data": {
      "text/html": [
       "<div>\n",
       "<style scoped>\n",
       "    .dataframe tbody tr th:only-of-type {\n",
       "        vertical-align: middle;\n",
       "    }\n",
       "\n",
       "    .dataframe tbody tr th {\n",
       "        vertical-align: top;\n",
       "    }\n",
       "\n",
       "    .dataframe thead th {\n",
       "        text-align: right;\n",
       "    }\n",
       "</style>\n",
       "<table border=\"1\" class=\"dataframe\">\n",
       "  <thead>\n",
       "    <tr style=\"text-align: right;\">\n",
       "      <th></th>\n",
       "      <th>actual</th>\n",
       "      <th>prediction</th>\n",
       "    </tr>\n",
       "    <tr>\n",
       "      <th>Tanggal</th>\n",
       "      <th></th>\n",
       "      <th></th>\n",
       "    </tr>\n",
       "  </thead>\n",
       "  <tbody>\n",
       "    <tr>\n",
       "      <th>2020-01-01</th>\n",
       "      <td>23.6</td>\n",
       "      <td>22.870469</td>\n",
       "    </tr>\n",
       "    <tr>\n",
       "      <th>2020-01-02</th>\n",
       "      <td>24.8</td>\n",
       "      <td>23.691220</td>\n",
       "    </tr>\n",
       "    <tr>\n",
       "      <th>2020-01-03</th>\n",
       "      <td>24.4</td>\n",
       "      <td>24.406316</td>\n",
       "    </tr>\n",
       "    <tr>\n",
       "      <th>2020-01-04</th>\n",
       "      <td>24.1</td>\n",
       "      <td>24.164975</td>\n",
       "    </tr>\n",
       "    <tr>\n",
       "      <th>2020-01-05</th>\n",
       "      <td>24.4</td>\n",
       "      <td>23.989522</td>\n",
       "    </tr>\n",
       "    <tr>\n",
       "      <th>...</th>\n",
       "      <td>...</td>\n",
       "      <td>...</td>\n",
       "    </tr>\n",
       "    <tr>\n",
       "      <th>2021-12-26</th>\n",
       "      <td>24.2</td>\n",
       "      <td>24.100599</td>\n",
       "    </tr>\n",
       "    <tr>\n",
       "      <th>2021-12-27</th>\n",
       "      <td>23.7</td>\n",
       "      <td>24.042864</td>\n",
       "    </tr>\n",
       "    <tr>\n",
       "      <th>2021-12-28</th>\n",
       "      <td>24.2</td>\n",
       "      <td>23.709581</td>\n",
       "    </tr>\n",
       "    <tr>\n",
       "      <th>2021-12-29</th>\n",
       "      <td>23.9</td>\n",
       "      <td>24.042483</td>\n",
       "    </tr>\n",
       "    <tr>\n",
       "      <th>2021-12-30</th>\n",
       "      <td>24.4</td>\n",
       "      <td>23.855068</td>\n",
       "    </tr>\n",
       "  </tbody>\n",
       "</table>\n",
       "<p>729 rows × 2 columns</p>\n",
       "</div>"
      ],
      "text/plain": [
       "            actual  prediction\n",
       "Tanggal                       \n",
       "2020-01-01    23.6   22.870469\n",
       "2020-01-02    24.8   23.691220\n",
       "2020-01-03    24.4   24.406316\n",
       "2020-01-04    24.1   24.164975\n",
       "2020-01-05    24.4   23.989522\n",
       "...            ...         ...\n",
       "2021-12-26    24.2   24.100599\n",
       "2021-12-27    23.7   24.042864\n",
       "2021-12-28    24.2   23.709581\n",
       "2021-12-29    23.9   24.042483\n",
       "2021-12-30    24.4   23.855068\n",
       "\n",
       "[729 rows x 2 columns]"
      ]
     },
     "execution_count": 30,
     "metadata": {},
     "output_type": "execute_result"
    }
   ],
   "source": [
    "combined = pd.concat([test_data[\"target\"], pd.Series(prediction, index=test_data.index)], axis=1)\n",
    "combined.columns = [\"actual\", \"prediction\"]\n",
    "combined"
   ]
  },
  {
   "cell_type": "code",
   "execution_count": 31,
   "metadata": {},
   "outputs": [
    {
     "data": {
      "text/plain": [
       "<Axes: xlabel='Tanggal'>"
      ]
     },
     "execution_count": 31,
     "metadata": {},
     "output_type": "execute_result"
    },
    {
     "data": {
      "image/png": "[encoded data removed]",
      "text/plain": [
       "<Figure size 640x480 with 1 Axes>"
      ]
     },
     "metadata": {},
     "output_type": "display_data"
    }
   ],
   "source": [
    "combined.plot()"
   ]
  },
  {
   "cell_type": "code",
   "execution_count": 22,
   "metadata": {
    "colab": {
     "base_uri": "https://localhost:8080/"
    },
    "id": "iXXN1bnUvWwY",
    "outputId": "32c6b997-4f23-4461-bddd-2beb7c580dc3"
   },
   "outputs": [
    {
     "data": {
      "text/plain": [
       "array([ 0.64376206,  0.00589172, -0.00190458])"
      ]
     },
     "execution_count": 22,
     "metadata": {},
     "output_type": "execute_result"
    }
   ],
   "source": [
    "reg.coef_"
   ]
  },
  {
   "cell_type": "code",
   "execution_count": 23,
   "metadata": {
    "id": "v0HdYnjYvYj6"
   },
   "outputs": [],
   "source": [
    "from sklearn.metrics import accuracy_score\n",
    "def create_predictions(predict, cuaca, reg):\n",
    "  train_data = cuaca.loc[:\"2020-01-01\"]\n",
    "  test_data = cuaca.loc[\"2020-01-01\":]\n",
    "  reg.fit(train_data[predict], train_data[\"target\"])\n",
    "  prediction = reg.predict(test_data[predict])\n",
    "  error = mean_absolute_error(test_data[\"target\"], prediction)\n",
    "  combined = pd.concat([test_data[\"target\"], pd.Series(prediction, index=test_data.index)], axis=1)\n",
    "  combined.columns = [\"actual\", \"prediction\"]\n",
    "\n",
    "  threshold = 1  # Define a threshold for considering a prediction correct\n",
    "  predicted_labels = [1 if abs(p - a) <= threshold else 0 for p, a in zip(prediction, test_data[\"target\"])]\n",
    "  actual_labels = [1] * len(test_data[\"target\"])  # All actual values are considered 'correct'\n",
    "  accuracy = accuracy_score(actual_labels, predicted_labels)\n",
    "  return error, combined, accuracy"
   ]
  },
  {
   "cell_type": "code",
   "execution_count": 24,
   "metadata": {
    "colab": {
     "base_uri": "https://localhost:8080/"
    },
    "id": "7HP81zXAx085",
    "outputId": "9373ce37-d8ee-45ce-a22e-c970cf0dae21"
   },
   "outputs": [
    {
     "name": "stdout",
     "output_type": "stream",
     "text": [
      "Mean Absolute Error: 0.5374808212433168\n",
      "Accuracy: 0.869684499314129\n"
     ]
    }
   ],
   "source": [
    "error, combined, accuracy = create_predictions(predict, cuaca, reg)\n",
    "print(\"Mean Absolute Error:\", error)\n",
    "print(\"Accuracy:\", accuracy)"
   ]
  },
  {
   "cell_type": "code",
   "execution_count": 25,
   "metadata": {
    "colab": {
     "base_uri": "https://localhost:8080/",
     "height": 237
    },
    "id": "OODdKnR0v8xz",
    "outputId": "6536a827-b893-42cc-8d41-5d10b465b5ad"
   },
   "outputs": [
    {
     "data": {
      "text/html": [
       "<div>\n",
       "<style scoped>\n",
       "    .dataframe tbody tr th:only-of-type {\n",
       "        vertical-align: middle;\n",
       "    }\n",
       "\n",
       "    .dataframe tbody tr th {\n",
       "        vertical-align: top;\n",
       "    }\n",
       "\n",
       "    .dataframe thead th {\n",
       "        text-align: right;\n",
       "    }\n",
       "</style>\n",
       "<table border=\"1\" class=\"dataframe\">\n",
       "  <thead>\n",
       "    <tr style=\"text-align: right;\">\n",
       "      <th></th>\n",
       "      <th>actual</th>\n",
       "      <th>prediction</th>\n",
       "      <th>diff</th>\n",
       "    </tr>\n",
       "    <tr>\n",
       "      <th>Tanggal</th>\n",
       "      <th></th>\n",
       "      <th></th>\n",
       "      <th></th>\n",
       "    </tr>\n",
       "  </thead>\n",
       "  <tbody>\n",
       "    <tr>\n",
       "      <th>2020-10-02</th>\n",
       "      <td>28.9</td>\n",
       "      <td>24.463658</td>\n",
       "      <td>4.436342</td>\n",
       "    </tr>\n",
       "    <tr>\n",
       "      <th>2021-09-13</th>\n",
       "      <td>21.7</td>\n",
       "      <td>24.339870</td>\n",
       "      <td>2.639870</td>\n",
       "    </tr>\n",
       "    <tr>\n",
       "      <th>2020-10-03</th>\n",
       "      <td>24.3</td>\n",
       "      <td>26.870322</td>\n",
       "      <td>2.570322</td>\n",
       "    </tr>\n",
       "    <tr>\n",
       "      <th>2021-10-17</th>\n",
       "      <td>21.9</td>\n",
       "      <td>24.244754</td>\n",
       "      <td>2.344754</td>\n",
       "    </tr>\n",
       "    <tr>\n",
       "      <th>2021-01-18</th>\n",
       "      <td>21.6</td>\n",
       "      <td>23.818944</td>\n",
       "      <td>2.218944</td>\n",
       "    </tr>\n",
       "  </tbody>\n",
       "</table>\n",
       "</div>"
      ],
      "text/plain": [
       "            actual  prediction      diff\n",
       "Tanggal                                 \n",
       "2020-10-02    28.9   24.463658  4.436342\n",
       "2021-09-13    21.7   24.339870  2.639870\n",
       "2020-10-03    24.3   26.870322  2.570322\n",
       "2021-10-17    21.9   24.244754  2.344754\n",
       "2021-01-18    21.6   23.818944  2.218944"
      ]
     },
     "execution_count": 25,
     "metadata": {},
     "output_type": "execute_result"
    }
   ],
   "source": [
    "combined[\"diff\"] = (combined[\"actual\"] - combined[\"prediction\"]).abs()\n",
    "combined.sort_values(\"diff\", ascending=False).head()"
   ]
  }
 ],
 "metadata": {
  "colab": {
   "provenance": []
  },
  "kernelspec": {
   "display_name": "Python 3",
   "name": "python3"
  },
  "language_info": {
   "codemirror_mode": {
    "name": "ipython",
    "version": 3
   },
   "file_extension": ".py",
   "mimetype": "text/x-python",
   "name": "python",
   "nbconvert_exporter": "python",
   "pygments_lexer": "ipython3",
   "version": "3.12.4"
  }
 },
 "nbformat": 4,
 "nbformat_minor": 0
}
